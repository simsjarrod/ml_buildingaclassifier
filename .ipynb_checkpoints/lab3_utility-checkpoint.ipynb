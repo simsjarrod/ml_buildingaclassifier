{
 "cells": [
  {
   "cell_type": "markdown",
   "metadata": {},
   "source": [
    "# Lab 3 -  Utility code . \n",
    "This visualization for a binary classifier is complicated enough that doing a walk through of the function didn't feel necessary.  Of course, looking at the code with a goal of understanding would not hurt."
   ]
  },
  {
   "cell_type": "markdown",
   "metadata": {},
   "source": [
    "### A Helpful plotting function for showing true and false for the categories"
   ]
  },
  {
   "cell_type": "code",
   "execution_count": 23,
   "metadata": {},
   "outputs": [],
   "source": [
    "import matplotlib.pyplot as plt\n",
    "\n",
    "def plot2FeatureBinaryConfusion(data_set, feature1Label, feature2Label, targetLabel, predicted, positive=1, negative=0):\n",
    "## assumes that the target is 0/1\n",
    "\n",
    "    \n",
    "    target = data_set[targetLabel]\n",
    "    \n",
    "    # Filter with feature 1\n",
    "    feature1_positives = np.ma.masked_where(target==negative, \n",
    "                     data_set[feature1Label])\n",
    "    true_positive = np.ma.masked_where(predicted!=target, feature1_positives)\n",
    "    false_negative = np.ma.masked_where(predicted==target, feature1_positives)\n",
    "    feature1_negatives = np.ma.masked_where(target==positive, \n",
    "                     data_set[feature1Label])\n",
    "    true_negative = np.ma.masked_where(predicted!=target, feature1_negatives)\n",
    "    false_positive = np.ma.masked_where(predicted==target,feature1_negatives)\n",
    "\n",
    "   \n",
    "    feature2 = data_set[feature2Label]\n",
    "    plt.scatter(true_positive, feature2, c='green', marker='o')\n",
    "    plt.scatter(false_positive, feature2, c='red', marker='^')\n",
    "    plt.scatter(true_negative, feature2, c='blue', marker='o')\n",
    "    plt.scatter(false_negative, feature2, c='orange', marker='^')\n",
    "\n",
    "\n",
    "\n",
    "    plt.xlabel(feature1Label)\n",
    "    plt.ylabel(feature2Label)\n",
    "    plt.legend(['True Positive', 'False Positive', 'True Negative', 'False Negative'])\n",
    "    plt.show()"
   ]
  }
 ],
 "metadata": {
  "kernelspec": {
   "display_name": "Python 3 (ipykernel)",
   "language": "python",
   "name": "python3"
  },
  "language_info": {
   "codemirror_mode": {
    "name": "ipython",
    "version": 3
   },
   "file_extension": ".py",
   "mimetype": "text/x-python",
   "name": "python",
   "nbconvert_exporter": "python",
   "pygments_lexer": "ipython3",
   "version": "3.10.9"
  }
 },
 "nbformat": 4,
 "nbformat_minor": 4
}
